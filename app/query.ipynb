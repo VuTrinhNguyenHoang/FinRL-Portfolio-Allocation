{
 "cells": [
  {
   "cell_type": "code",
   "execution_count": null,
   "id": "6c1b45f6",
   "metadata": {},
   "outputs": [
    {
     "data": {
      "text/html": [
       "<div>\n",
       "<style scoped>\n",
       "    .dataframe tbody tr th:only-of-type {\n",
       "        vertical-align: middle;\n",
       "    }\n",
       "\n",
       "    .dataframe tbody tr th {\n",
       "        vertical-align: top;\n",
       "    }\n",
       "\n",
       "    .dataframe thead th {\n",
       "        text-align: right;\n",
       "    }\n",
       "</style>\n",
       "<table border=\"1\" class=\"dataframe\">\n",
       "  <thead>\n",
       "    <tr style=\"text-align: right;\">\n",
       "      <th></th>\n",
       "      <th>Date</th>\n",
       "      <th>PPO Value</th>\n",
       "      <th>BTC Value</th>\n",
       "      <th>Equal-Weighted Value</th>\n",
       "    </tr>\n",
       "  </thead>\n",
       "  <tbody>\n",
       "    <tr>\n",
       "      <th>0</th>\n",
       "      <td>2024-01-27</td>\n",
       "      <td>9951.020429</td>\n",
       "      <td>10072.502697</td>\n",
       "      <td>10029.704354</td>\n",
       "    </tr>\n",
       "    <tr>\n",
       "      <th>1</th>\n",
       "      <td>2024-01-28</td>\n",
       "      <td>9904.655134</td>\n",
       "      <td>10052.304883</td>\n",
       "      <td>9990.516652</td>\n",
       "    </tr>\n",
       "    <tr>\n",
       "      <th>2</th>\n",
       "      <td>2024-01-29</td>\n",
       "      <td>10084.364063</td>\n",
       "      <td>10351.861572</td>\n",
       "      <td>10196.413358</td>\n",
       "    </tr>\n",
       "    <tr>\n",
       "      <th>3</th>\n",
       "      <td>2024-01-30</td>\n",
       "      <td>9978.081644</td>\n",
       "      <td>10271.598102</td>\n",
       "      <td>10060.614361</td>\n",
       "    </tr>\n",
       "    <tr>\n",
       "      <th>4</th>\n",
       "      <td>2024-01-31</td>\n",
       "      <td>9861.921764</td>\n",
       "      <td>10183.116134</td>\n",
       "      <td>9915.434466</td>\n",
       "    </tr>\n",
       "    <tr>\n",
       "      <th>...</th>\n",
       "      <td>...</td>\n",
       "      <td>...</td>\n",
       "      <td>...</td>\n",
       "      <td>...</td>\n",
       "    </tr>\n",
       "    <tr>\n",
       "      <th>474</th>\n",
       "      <td>2025-05-15</td>\n",
       "      <td>45908.181707</td>\n",
       "      <td>24809.278626</td>\n",
       "      <td>21267.797429</td>\n",
       "    </tr>\n",
       "    <tr>\n",
       "      <th>475</th>\n",
       "      <td>2025-05-16</td>\n",
       "      <td>45828.040203</td>\n",
       "      <td>24748.214382</td>\n",
       "      <td>21392.459508</td>\n",
       "    </tr>\n",
       "    <tr>\n",
       "      <th>476</th>\n",
       "      <td>2025-05-17</td>\n",
       "      <td>45629.213261</td>\n",
       "      <td>24676.902704</td>\n",
       "      <td>21050.248342</td>\n",
       "    </tr>\n",
       "    <tr>\n",
       "      <th>477</th>\n",
       "      <td>2025-05-18</td>\n",
       "      <td>45745.191027</td>\n",
       "      <td>25455.277984</td>\n",
       "      <td>21496.682013</td>\n",
       "    </tr>\n",
       "    <tr>\n",
       "      <th>478</th>\n",
       "      <td>2025-05-19</td>\n",
       "      <td>45019.865616</td>\n",
       "      <td>24834.969140</td>\n",
       "      <td>20864.819880</td>\n",
       "    </tr>\n",
       "  </tbody>\n",
       "</table>\n",
       "<p>479 rows × 4 columns</p>\n",
       "</div>"
      ],
      "text/plain": [
       "          Date     PPO Value     BTC Value  Equal-Weighted Value\n",
       "0   2024-01-27   9951.020429  10072.502697          10029.704354\n",
       "1   2024-01-28   9904.655134  10052.304883           9990.516652\n",
       "2   2024-01-29  10084.364063  10351.861572          10196.413358\n",
       "3   2024-01-30   9978.081644  10271.598102          10060.614361\n",
       "4   2024-01-31   9861.921764  10183.116134           9915.434466\n",
       "..         ...           ...           ...                   ...\n",
       "474 2025-05-15  45908.181707  24809.278626          21267.797429\n",
       "475 2025-05-16  45828.040203  24748.214382          21392.459508\n",
       "476 2025-05-17  45629.213261  24676.902704          21050.248342\n",
       "477 2025-05-18  45745.191027  25455.277984          21496.682013\n",
       "478 2025-05-19  45019.865616  24834.969140          20864.819880\n",
       "\n",
       "[479 rows x 4 columns]"
      ]
     },
     "execution_count": 19,
     "metadata": {},
     "output_type": "execute_result"
    }
   ],
   "source": [
    "from sqlalchemy import create_engine\n",
    "import pandas as pd\n",
    "\n",
    "db_path = \"../airflow/dags/crypto_data.db\"\n",
    "engine = create_engine(f'sqlite:///{db_path}')\n",
    "\n",
    "df_portfolio = pd.read_sql('SELECT * FROM portfolio_value', engine, parse_dates=['Date'])\n",
    "df_portfolio"
   ]
  },
  {
   "cell_type": "code",
   "execution_count": 21,
   "id": "b2744ed2",
   "metadata": {},
   "outputs": [
    {
     "data": {
      "text/plain": [
       "Index(['Date', 'PPO Value', 'BTC Value', 'Equal-Weighted Value'], dtype='object')"
      ]
     },
     "execution_count": 21,
     "metadata": {},
     "output_type": "execute_result"
    }
   ],
   "source": [
    "df_portfolio.columns"
   ]
  },
  {
   "cell_type": "code",
   "execution_count": null,
   "id": "5040831c",
   "metadata": {},
   "outputs": [],
   "source": []
  }
 ],
 "metadata": {
  "kernelspec": {
   "display_name": "Python 3",
   "language": "python",
   "name": "python3"
  },
  "language_info": {
   "codemirror_mode": {
    "name": "ipython",
    "version": 3
   },
   "file_extension": ".py",
   "mimetype": "text/x-python",
   "name": "python",
   "nbconvert_exporter": "python",
   "pygments_lexer": "ipython3",
   "version": "3.11.9"
  }
 },
 "nbformat": 4,
 "nbformat_minor": 5
}
